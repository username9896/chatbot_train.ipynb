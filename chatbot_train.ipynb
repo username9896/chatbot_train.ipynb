{
 "cells": [
  {
   "cell_type": "code",
   "execution_count": 2,
   "metadata": {
    "id": "v9M2ufN_KOoi"
   },
   "outputs": [],
   "source": [
    "# load json file with tags, patterns & responses\n",
    "\n",
    "intents = json.loads(open(\"intents.json\").read())"
   ]
  },
  {
   "cell_type": "code",
   "execution_count": 3,
   "metadata": {
    "id": "A_Rh4cCoKQkn"
   },
   "outputs": [],
   "source": [
    "# create lists to store data\n",
    "words = []\n",
    "labels = []\n",
    "docs = []\n",
    "ignore_letters = [\"?\", \"!\", \".\", \",\"]\n",
    "\n",
    "# separate words from patterns and add to words list\n",
    "for intent in intents['intents']:\n",
    "\tfor pattern in intent['patterns']:\n",
    "\t\tword_list = nltk.word_tokenize(pattern)\n",
    "\t\twords.extend(word_list) \n",
    "\t\t\n",
    "\t\t# associate patterns with respective tags\n",
    "\t\tdocs.append(((word_list), intent['tag']))\n",
    "\n",
    "\t\t# append tags to labels list\n",
    "\t\tif intent['tag'] not in labels:\n",
    "\t\t\tlabels.append(intent['tag'])"
   ]
  },
  {
   "cell_type": "code",
   "execution_count": 4,
   "metadata": {
    "id": "GuV3qsziKasy"
   },
   "outputs": [],
   "source": [
    "# store root words (lemma)\n",
    "lemmatizer = WordNetLemmatizer()\n",
    "\n",
    "words = [lemmatizer.lemmatize(word)\n",
    "\t\tfor word in words if word not in ignore_letters]\n",
    "words = sorted(set(words))"
   ]
  },
  {
   "cell_type": "code",
   "execution_count": 5,
   "metadata": {
    "id": "GmH-nKoxKdYW"
   },
   "outputs": [],
   "source": [
    "# save words and labels lists to binary files\n",
    "\n",
    "pickle.dump(words, open('words.pkl', 'wb'))\n",
    "pickle.dump(labels, open('labels.pkl', 'wb'))"
   ]
  },
  {
   "cell_type": "code",
   "execution_count": 6,
   "metadata": {
    "colab": {
     "base_uri": "https://localhost:8080/"
    },
    "id": "06rNtlpJHMJ0",
    "outputId": "e09441f2-5c37-452d-a26d-19840c59417e",
    "scrolled": false
   },
   "outputs": [],
   "source": [
    "\n",
    "training = []\n",
    "output_empty = np.zeros(len(labels))\n",
    "\n",
    "for doc in docs:\n",
    "    bag = np.zeros(len(words))\n",
    "    word_patterns = doc[0]\n",
    "    word_patterns = [lemmatizer.lemmatize(word.lower()) for word in word_patterns]\n",
    "    for word in words:\n",
    "        if word in word_patterns:\n",
    "            bag[words.index(word)] = 1\n",
    "\n",
    "    output_row = np.copy(output_empty)\n",
    "    output_row[labels.index(doc[1])] = 1\n",
    "\n",
    "    training.append([bag, output_row])\n",
    "\n",
    "# Shuffle training data\n",
    "random.shuffle(training)\n",
    "\n",
    "# Separate bag and output_row into individual arrays\n",
    "bags = np.array([entry[0] for entry in training])\n",
    "output_rows = np.array([entry[1] for entry in training])\n",
    "\n",
    "# Combine bags and output_rows into a single NumPy array\n",
    "training = np.column_stack((bags, output_rows))"
   ]
  },
  {
   "cell_type": "code",
   "execution_count": 7,
   "metadata": {
    "id": "f_rJJmPKKhn3"
   },
   "outputs": [],
   "source": [
    "training = np.array(training, dtype=object)\n",
    "\n",
    "# split data\n",
    "train_x = list(training[:, 0])\n",
    "train_y = list(training[:, 1])"
   ]
  },
  {
   "cell_type": "code",
   "execution_count": 8,
   "metadata": {
    "id": "pXZ_mIfyHNiT"
   },
   "outputs": [
    {
     "ename": "ValueError",
     "evalue": "too many values to unpack (expected 2)",
     "output_type": "error",
     "traceback": [
      "\u001b[1;31m---------------------------------------------------------------------------\u001b[0m",
      "\u001b[1;31mValueError\u001b[0m                                Traceback (most recent call last)",
      "Cell \u001b[1;32mIn[8], line 1\u001b[0m\n\u001b[1;32m----> 1\u001b[0m train_x \u001b[38;5;241m=\u001b[39m np\u001b[38;5;241m.\u001b[39marray([x \u001b[38;5;28;01mfor\u001b[39;00m x, _ \u001b[38;5;129;01min\u001b[39;00m training], dtype\u001b[38;5;241m=\u001b[39m\u001b[38;5;28mint\u001b[39m)\n\u001b[0;32m      2\u001b[0m train_y \u001b[38;5;241m=\u001b[39m np\u001b[38;5;241m.\u001b[39marray([y \u001b[38;5;28;01mfor\u001b[39;00m _, y \u001b[38;5;129;01min\u001b[39;00m training], dtype\u001b[38;5;241m=\u001b[39m\u001b[38;5;28mint\u001b[39m)\n\u001b[0;32m      4\u001b[0m \u001b[38;5;66;03m# Input shape will be the shape of a single data point in train_x\u001b[39;00m\n",
      "Cell \u001b[1;32mIn[8], line 1\u001b[0m, in \u001b[0;36m<listcomp>\u001b[1;34m(.0)\u001b[0m\n\u001b[1;32m----> 1\u001b[0m train_x \u001b[38;5;241m=\u001b[39m np\u001b[38;5;241m.\u001b[39marray([x \u001b[38;5;28;01mfor\u001b[39;00m x, _ \u001b[38;5;129;01min\u001b[39;00m training], dtype\u001b[38;5;241m=\u001b[39m\u001b[38;5;28mint\u001b[39m)\n\u001b[0;32m      2\u001b[0m train_y \u001b[38;5;241m=\u001b[39m np\u001b[38;5;241m.\u001b[39marray([y \u001b[38;5;28;01mfor\u001b[39;00m _, y \u001b[38;5;129;01min\u001b[39;00m training], dtype\u001b[38;5;241m=\u001b[39m\u001b[38;5;28mint\u001b[39m)\n\u001b[0;32m      4\u001b[0m \u001b[38;5;66;03m# Input shape will be the shape of a single data point in train_x\u001b[39;00m\n",
      "\u001b[1;31mValueError\u001b[0m: too many values to unpack (expected 2)"
     ]
    }
   ],
   "source": [
    "train_x = np.array([x for x, _ in training], dtype=int)\n",
    "train_y = np.array([y for _, y in training], dtype=int)\n",
    "\n",
    "# Input shape will be the shape of a single data point in train_x\n",
    "input_shape = (train_x.shape[1],)  # Number of features in each data point\n",
    "\n",
    "# create Sequential Neural Network model\n",
    "model = Sequential()\n",
    "model.add(Dense(128, input_shape=input_shape, activation='relu'))\n",
    "model.add(Dropout(0.5))\n",
    "model.add(Dense(64, activation='relu'))\n",
    "model.add(Dropout(0.5))\n",
    "model.add(Dense(len(train_y[0]), activation='softmax'))"
   ]
  },
  {
   "cell_type": "code",
   "execution_count": null,
   "metadata": {
    "colab": {
     "base_uri": "https://localhost:8080/"
    },
    "id": "dWz37tFCKmeb",
    "outputId": "8da0a255-915f-43ec-ccb3-11250753aae2"
   },
   "outputs": [],
   "source": [
    "# Define the learning rate schedule\n",
    "initial_lr = 0.01\n",
    "lr_schedule = tensorflow.keras.optimizers.schedules.ExponentialDecay(\n",
    "    initial_learning_rate=initial_lr,\n",
    "    decay_steps=1000,           # adjust this based on your preference\n",
    "    decay_rate=0.96,            # adjust this based on your preference\n",
    "    staircase=True\n",
    ")\n",
    "\n",
    "# Compile model with the learning rate scheduler\n",
    "sgd = tensorflow.keras.optimizers.SGD(learning_rate=lr_schedule, momentum=0.9, nesterov=True)\n",
    "model.compile(loss='categorical_crossentropy',\n",
    "              optimizer=sgd, metrics=['accuracy'])\n",
    "hist = model.fit(np.array(train_x), np.array(train_y),\n",
    "                 epochs=200, batch_size=5, verbose=1)\n",
    "\n",
    "print(\"Training complete\")"
   ]
  },
  {
   "cell_type": "code",
   "execution_count": null,
   "metadata": {
    "id": "oTSF_RVaKpnu"
   },
   "outputs": [],
   "source": [
    "# saving the model\n",
    "model.save(\"chatbotmodel.h5\", hist)"
   ]
  },
  {
   "cell_type": "code",
   "execution_count": null,
   "metadata": {},
   "outputs": [],
   "source": []
  },
  {
   "cell_type": "code",
   "execution_count": null,
   "metadata": {},
   "outputs": [],
   "source": []
  },
  {
   "cell_type": "code",
   "execution_count": null,
   "metadata": {},
   "outputs": [],
   "source": []
  }
 ],
 "metadata": {
  "colab": {
   "provenance": []
  },
  "kernelspec": {
   "display_name": "Python 3 (ipykernel)",
   "language": "python",
   "name": "python3"
  },
  "language_info": {
   "codemirror_mode": {
    "name": "ipython",
    "version": 3
   },
   "file_extension": ".py",
   "mimetype": "text/x-python",
   "name": "python",
   "nbconvert_exporter": "python",
   "pygments_lexer": "ipython3",
   "version": "3.11.3"
  }
 },
 "nbformat": 4,
 "nbformat_minor": 1
}
